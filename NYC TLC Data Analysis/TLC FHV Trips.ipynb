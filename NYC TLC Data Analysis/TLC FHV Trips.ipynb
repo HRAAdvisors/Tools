{
 "cells": [
  {
   "cell_type": "code",
   "execution_count": 1,
   "metadata": {},
   "outputs": [],
   "source": [
    "import pandas as pd\n",
    "import numpy as np\n",
    "import urllib.request\n",
    "import itertools\n",
    "import math\n",
    "\n",
    "from sqlalchemy import create_engine\n",
    "nyc_database = create_engine('sqlite:///nyc_database.db')"
   ]
  },
  {
   "cell_type": "code",
   "execution_count": 4,
   "metadata": {},
   "outputs": [
    {
     "data": {
      "text/html": [
       "<div>\n",
       "<style scoped>\n",
       "    .dataframe tbody tr th:only-of-type {\n",
       "        vertical-align: middle;\n",
       "    }\n",
       "\n",
       "    .dataframe tbody tr th {\n",
       "        vertical-align: top;\n",
       "    }\n",
       "\n",
       "    .dataframe thead th {\n",
       "        text-align: right;\n",
       "    }\n",
       "</style>\n",
       "<table border=\"1\" class=\"dataframe\">\n",
       "  <thead>\n",
       "    <tr style=\"text-align: right;\">\n",
       "      <th></th>\n",
       "      <th>dispatching_base_num</th>\n",
       "      <th>pickup_datetime</th>\n",
       "      <th>dropoff_datetime</th>\n",
       "      <th>PULocationID</th>\n",
       "      <th>DOLocationID</th>\n",
       "      <th>SR_Flag</th>\n",
       "    </tr>\n",
       "  </thead>\n",
       "  <tbody>\n",
       "    <tr>\n",
       "      <th>0</th>\n",
       "      <td>B00001</td>\n",
       "      <td>2019-01-01 00:30:00</td>\n",
       "      <td>2019-01-01 02:51:55</td>\n",
       "      <td>NaN</td>\n",
       "      <td>NaN</td>\n",
       "      <td>NaN</td>\n",
       "    </tr>\n",
       "    <tr>\n",
       "      <th>1</th>\n",
       "      <td>B00001</td>\n",
       "      <td>2019-01-01 00:45:00</td>\n",
       "      <td>2019-01-01 00:54:49</td>\n",
       "      <td>NaN</td>\n",
       "      <td>NaN</td>\n",
       "      <td>NaN</td>\n",
       "    </tr>\n",
       "    <tr>\n",
       "      <th>2</th>\n",
       "      <td>B00001</td>\n",
       "      <td>2019-01-01 00:15:00</td>\n",
       "      <td>2019-01-01 00:54:52</td>\n",
       "      <td>NaN</td>\n",
       "      <td>NaN</td>\n",
       "      <td>NaN</td>\n",
       "    </tr>\n",
       "    <tr>\n",
       "      <th>3</th>\n",
       "      <td>B00008</td>\n",
       "      <td>2019-01-01 00:19:00</td>\n",
       "      <td>2019-01-01 00:39:00</td>\n",
       "      <td>NaN</td>\n",
       "      <td>NaN</td>\n",
       "      <td>NaN</td>\n",
       "    </tr>\n",
       "    <tr>\n",
       "      <th>4</th>\n",
       "      <td>B00008</td>\n",
       "      <td>2019-01-01 00:27:00</td>\n",
       "      <td>2019-01-01 00:37:00</td>\n",
       "      <td>NaN</td>\n",
       "      <td>NaN</td>\n",
       "      <td>NaN</td>\n",
       "    </tr>\n",
       "  </tbody>\n",
       "</table>\n",
       "</div>"
      ],
      "text/plain": [
       "  dispatching_base_num      pickup_datetime     dropoff_datetime  \\\n",
       "0               B00001  2019-01-01 00:30:00  2019-01-01 02:51:55   \n",
       "1               B00001  2019-01-01 00:45:00  2019-01-01 00:54:49   \n",
       "2               B00001  2019-01-01 00:15:00  2019-01-01 00:54:52   \n",
       "3               B00008  2019-01-01 00:19:00  2019-01-01 00:39:00   \n",
       "4               B00008  2019-01-01 00:27:00  2019-01-01 00:37:00   \n",
       "\n",
       "   PULocationID  DOLocationID  SR_Flag  \n",
       "0           NaN           NaN      NaN  \n",
       "1           NaN           NaN      NaN  \n",
       "2           NaN           NaN      NaN  \n",
       "3           NaN           NaN      NaN  \n",
       "4           NaN           NaN      NaN  "
      ]
     },
     "execution_count": 4,
     "metadata": {},
     "output_type": "execute_result"
    }
   ],
   "source": [
    "df = pd.read_csv(\"fhv_tripdata_2019-01.csv\", nrows=10)\n",
    "df.head()"
   ]
  },
  {
   "cell_type": "code",
   "execution_count": 5,
   "metadata": {},
   "outputs": [
    {
     "data": {
      "text/plain": [
       "0   NaN\n",
       "1   NaN\n",
       "2   NaN\n",
       "3   NaN\n",
       "4   NaN\n",
       "5   NaN\n",
       "6   NaN\n",
       "7   NaN\n",
       "8   NaN\n",
       "9   NaN\n",
       "Name: PULocationID, dtype: float64"
      ]
     },
     "execution_count": 5,
     "metadata": {},
     "output_type": "execute_result"
    }
   ],
   "source": [
    "df['PULocationID']"
   ]
  },
  {
   "cell_type": "code",
   "execution_count": 6,
   "metadata": {},
   "outputs": [],
   "source": [
    "j, chunksize = 1, 100000\n",
    "for month in range(1,7):\n",
    "    fp = \"fhv_tripdata_2019-{0:0=2d}.csv\".format(month)\n",
    "    for df in pd.read_csv(fp, chunksize=chunksize, iterator=True):\n",
    "        df = df.rename(columns={c: c.replace(' ', '_') for c in df.columns})\n",
    "        df['pickup_hour'] = [x[11:13] for x in df['pickup_datetime']]\n",
    "        df['dropoff_hour'] = [x[11:13] for x in df['dropoff_datetime']]\n",
    "        df.index += j\n",
    "        df.to_sql('table_record', nyc_database, if_exists='append')\n",
    "        j = df.index[-1] + 1\n",
    "del df"
   ]
  },
  {
   "cell_type": "code",
   "execution_count": 18,
   "metadata": {},
   "outputs": [],
   "source": [
    "df_do = pd.read_sql_query('SELECT DOLocationID AS DOLocationID, count(*) AS DOcount, PULocationID AS PULocationID \\\n",
    "                        FROM table_record \\\n",
    "                        WHERE DOLocationID = 34 \\\n",
    "                        GROUP BY DOLocationID, PULocationID', nyc_database)"
   ]
  },
  {
   "cell_type": "code",
   "execution_count": 38,
   "metadata": {},
   "outputs": [
    {
     "name": "stdout",
     "output_type": "stream",
     "text": [
      "   COUNT(PULocationID)\n",
      "0             30264661\n",
      "   COUNT(PULocationID)\n",
      "0             30264661\n"
     ]
    }
   ],
   "source": [
    "df_count = pd.read_sql_query('SELECT COUNT(PULocationID) \\\n",
    "                        FROM table_record', nyc_database)\n",
    "print(df_count)"
   ]
  },
  {
   "cell_type": "code",
   "execution_count": 19,
   "metadata": {},
   "outputs": [
    {
     "name": "stdout",
     "output_type": "stream",
     "text": [
      "     DOLocationID  DOcount  PULocationID\n",
      "0            34.0        1           NaN\n",
      "1            34.0      110           4.0\n",
      "2            34.0        1           6.0\n",
      "3            34.0      135           7.0\n",
      "4            34.0        1           9.0\n",
      "5            34.0        6          10.0\n",
      "6            34.0        4          11.0\n",
      "7            34.0        2          12.0\n",
      "8            34.0       50          13.0\n",
      "9            34.0       65          14.0\n",
      "10           34.0        1          15.0\n",
      "11           34.0        3          16.0\n",
      "12           34.0      979          17.0\n",
      "13           34.0        6          18.0\n",
      "14           34.0       19          21.0\n",
      "15           34.0       13          22.0\n",
      "16           34.0       24          24.0\n",
      "17           34.0      325          25.0\n",
      "18           34.0       53          26.0\n",
      "19           34.0        4          28.0\n",
      "20           34.0        1          30.0\n",
      "21           34.0      329          33.0\n",
      "22           34.0       78          34.0\n",
      "23           34.0       93          35.0\n",
      "24           34.0      335          36.0\n",
      "25           34.0      520          37.0\n",
      "26           34.0        1          38.0\n",
      "27           34.0       81          39.0\n",
      "28           34.0       90          40.0\n",
      "29           34.0       13          41.0\n",
      "..            ...      ...           ...\n",
      "185          34.0      247         231.0\n",
      "186          34.0      122         232.0\n",
      "187          34.0       53         233.0\n",
      "188          34.0      118         234.0\n",
      "189          34.0        1         235.0\n",
      "190          34.0       23         236.0\n",
      "191          34.0       29         237.0\n",
      "192          34.0       37         238.0\n",
      "193          34.0       32         239.0\n",
      "194          34.0        1         241.0\n",
      "195          34.0        2         242.0\n",
      "196          34.0       19         243.0\n",
      "197          34.0       19         244.0\n",
      "198          34.0       10         245.0\n",
      "199          34.0       64         246.0\n",
      "200          34.0        5         247.0\n",
      "201          34.0      149         249.0\n",
      "202          34.0        2         252.0\n",
      "203          34.0        3         254.0\n",
      "204          34.0      659         255.0\n",
      "205          34.0      539         256.0\n",
      "206          34.0       39         257.0\n",
      "207          34.0        3         258.0\n",
      "208          34.0        1         259.0\n",
      "209          34.0       50         260.0\n",
      "210          34.0       96         261.0\n",
      "211          34.0       23         262.0\n",
      "212          34.0       52         263.0\n",
      "213          34.0        1         264.0\n",
      "214          34.0        4         265.0\n",
      "\n",
      "[215 rows x 3 columns]\n"
     ]
    }
   ],
   "source": [
    "print(df_do)"
   ]
  },
  {
   "cell_type": "code",
   "execution_count": 21,
   "metadata": {},
   "outputs": [],
   "source": [
    "df_do.to_csv(\"Navy_Yard_Dropoffs.csv\")"
   ]
  },
  {
   "cell_type": "code",
   "execution_count": null,
   "metadata": {},
   "outputs": [],
   "source": []
  }
 ],
 "metadata": {
  "kernelspec": {
   "display_name": "Python 3",
   "language": "python",
   "name": "python3"
  },
  "language_info": {
   "codemirror_mode": {
    "name": "ipython",
    "version": 3
   },
   "file_extension": ".py",
   "mimetype": "text/x-python",
   "name": "python",
   "nbconvert_exporter": "python",
   "pygments_lexer": "ipython3",
   "version": "3.7.3"
  }
 },
 "nbformat": 4,
 "nbformat_minor": 2
}
